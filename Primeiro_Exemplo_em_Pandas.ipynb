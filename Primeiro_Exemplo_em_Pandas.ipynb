{
  "nbformat": 4,
  "nbformat_minor": 0,
  "metadata": {
    "colab": {
      "provenance": [],
      "authorship_tag": "ABX9TyOksg4WOkZUfsuYTwx98aBG",
      "include_colab_link": true
    },
    "kernelspec": {
      "name": "python3",
      "display_name": "Python 3"
    },
    "language_info": {
      "name": "python"
    }
  },
  "cells": [
    {
      "cell_type": "markdown",
      "metadata": {
        "id": "view-in-github",
        "colab_type": "text"
      },
      "source": [
        "<a href=\"https://colab.research.google.com/github/danielafsdb/Pandas/blob/main/Primeiro_Exemplo_em_Pandas.ipynb\" target=\"_parent\"><img src=\"https://colab.research.google.com/assets/colab-badge.svg\" alt=\"Open In Colab\"/></a>"
      ]
    },
    {
      "cell_type": "markdown",
      "source": [],
      "metadata": {
        "id": "3WA1WNMoUaU-"
      }
    },
    {
      "cell_type": "markdown",
      "source": [
        "**Primeiro exemplo de manipulação de dados usando Python Pandas\n",
        "Autor: Daniela Fernandes\n",
        "Data: 6 de fevereiro de 2023**"
      ],
      "metadata": {
        "id": "03d0qsZzUshP"
      }
    },
    {
      "cell_type": "code",
      "execution_count": null,
      "metadata": {
        "colab": {
          "base_uri": "https://localhost:8080/"
        },
        "id": "qe17l0YDJRh1",
        "outputId": "ef2352aa-12bf-4720-fdaa-12cb5102e030"
      },
      "outputs": [
        {
          "output_type": "stream",
          "name": "stdout",
          "text": [
            "Alô Mundo\n"
          ]
        }
      ],
      "source": [
        "print(\"Alô Mundo\")\n"
      ]
    },
    {
      "cell_type": "code",
      "source": [
        "# Importando biblioteca pandas no python\n",
        "import pandas as pd\n",
        "\n",
        "combustíveis _df = pd.read_csv(\"\")"
      ],
      "metadata": {
        "id": "PlTulHSEJfUV"
      },
      "execution_count": 4,
      "outputs": []
    }
  ]
}