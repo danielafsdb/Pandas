{
  "nbformat": 4,
  "nbformat_minor": 0,
  "metadata": {
    "colab": {
      "provenance": [],
      "authorship_tag": "ABX9TyNp9B0iz81l4uVzeAgObbGr",
      "include_colab_link": true
    },
    "kernelspec": {
      "name": "python3",
      "display_name": "Python 3"
    },
    "language_info": {
      "name": "python"
    }
  },
  "cells": [
    {
      "cell_type": "markdown",
      "metadata": {
        "id": "view-in-github",
        "colab_type": "text"
      },
      "source": [
        "<a href=\"https://colab.research.google.com/github/danielafsdb/Pandas/blob/main/Sites_importantes_sobre_banco_de_dados_e_a_biblioteca_pandas.ipynb\" target=\"_parent\"><img src=\"https://colab.research.google.com/assets/colab-badge.svg\" alt=\"Open In Colab\"/></a>"
      ]
    },
    {
      "cell_type": "code",
      "execution_count": null,
      "metadata": {
        "id": "Fs9xmdcwXkKV"
      },
      "outputs": [],
      "source": []
    },
    {
      "cell_type": "markdown",
      "source": [
        "https://basedosdados.org/\n",
        "\n",
        "https://data.world/\n",
        "\n",
        "https://www.gov.br/anp/pt-br/centrais-de-conteudo/dados-abertos/\n",
        "serie-historica-de-precos-de-combustiveis\n",
        "\n",
        "https://www.gov.br/inep/pt-br/areas-de-atuacao/avaliacao-e-exames-educacionais/pisa\n"
      ],
      "metadata": {
        "id": "EY_67DjKX138"
      }
    },
    {
      "cell_type": "markdown",
      "source": [],
      "metadata": {
        "id": "is_UPVZ7YeoC"
      }
    },
    {
      "cell_type": "markdown",
      "source": [],
      "metadata": {
        "id": "OAOtpnsMYelB"
      }
    },
    {
      "cell_type": "markdown",
      "source": [
        "https://pandas.pydata.org/docs/reference/api/pandas.read_excel.html\n",
        "\n",
        "https://pandas.pydata.org/docs/reference/api/pandas.DataFrame.sort_values.html"
      ],
      "metadata": {
        "id": "_vmM4ptCYnEK"
      }
    },
    {
      "cell_type": "markdown",
      "source": [
        "https://scikit-learn.org/stable/\n",
        "\n",
        "Machine Learning em **Python**"
      ],
      "metadata": {
        "id": "mSdB9cLvYvQL"
      }
    },
    {
      "cell_type": "markdown",
      "source": [],
      "metadata": {
        "id": "GxCA_NuYYYsa"
      }
    },
    {
      "cell_type": "markdown",
      "source": [
        "https://ourworldindata.org/"
      ],
      "metadata": {
        "id": "vETloGmQZKMS"
      }
    },
    {
      "cell_type": "markdown",
      "source": [],
      "metadata": {
        "id": "J-qc5q-mX1Oj"
      }
    }
  ]
}